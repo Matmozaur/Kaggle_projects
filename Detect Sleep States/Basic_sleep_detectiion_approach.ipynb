{
 "cells": [
  {
   "cell_type": "code",
   "execution_count": 13,
   "id": "c67c1ed7",
   "metadata": {},
   "outputs": [],
   "source": [
    "import polars as pl\n",
    "import matplotlib.pyplot as plt\n",
    "from event_detection_ap_score import event_detection_ap\n",
    "\n",
    "import pandas as pd"
   ]
  },
  {
   "cell_type": "code",
   "execution_count": 14,
   "id": "1e1f2967",
   "metadata": {},
   "outputs": [],
   "source": [
    "# BASE_PATH = '/home/matmozaur/Downloads/child-mind-institute-detect-sleep-states/'\n",
    "BASE_PATH = '../../cmidss/'"
   ]
  },
  {
   "cell_type": "code",
   "execution_count": 15,
   "id": "d5e34f00",
   "metadata": {},
   "outputs": [],
   "source": [
    "x = pl.read_parquet(BASE_PATH+'train_series.parquet')\n",
    "y = pl.read_csv(BASE_PATH+'train_events.csv')"
   ]
  },
  {
   "cell_type": "code",
   "execution_count": 16,
   "id": "853fc420",
   "metadata": {},
   "outputs": [],
   "source": [
    "# x = pd.read_parquet(BASE_PATH+'train_series.parquet')\n",
    "# y = pd.read_csv(BASE_PATH+'train_events.csv')"
   ]
  },
  {
   "cell_type": "code",
   "execution_count": 17,
   "id": "c1d84ac4",
   "metadata": {},
   "outputs": [],
   "source": [
    "s_idxs = list(x['series_id'].unique())"
   ]
  },
  {
   "cell_type": "code",
   "execution_count": 18,
   "id": "52ae6aa8",
   "metadata": {},
   "outputs": [
    {
     "data": {
      "text/plain": [
       "277"
      ]
     },
     "execution_count": 18,
     "metadata": {},
     "output_type": "execute_result"
    }
   ],
   "source": [
    "len(s_idxs)"
   ]
  },
  {
   "cell_type": "markdown",
   "id": "9186d906",
   "metadata": {},
   "source": [
    "# ----------------"
   ]
  },
  {
   "cell_type": "code",
   "execution_count": 19,
   "id": "ee59adb6",
   "metadata": {},
   "outputs": [],
   "source": [
    "y = y.filter(pl.col(\"series_id\").is_in(s_idxs[:100])).to_pandas()\n",
    "\n",
    "x = x.filter(pl.col(\"series_id\").is_in(s_idxs[:100])).to_pandas()"
   ]
  },
  {
   "cell_type": "code",
   "execution_count": 20,
   "id": "f8fc1ffc",
   "metadata": {},
   "outputs": [],
   "source": [
    "y = y.dropna()"
   ]
  },
  {
   "cell_type": "code",
   "execution_count": 21,
   "id": "8194fc01",
   "metadata": {},
   "outputs": [],
   "source": [
    "x['timestamp'] = pd.to_datetime(x['timestamp'].apply(lambda x: x[:19]))\n",
    "y['timestamp'] = pd.to_datetime(y['timestamp'].apply(lambda x: x[:19]))\n",
    "x.set_index('timestamp', inplace=True)\n",
    "y.set_index('timestamp', inplace=True)\n",
    "\n",
    "x.sort_index(inplace=True)\n",
    "y.sort_index(inplace=True)"
   ]
  },
  {
   "cell_type": "code",
   "execution_count": null,
   "id": "4688200d",
   "metadata": {},
   "outputs": [],
   "source": [
    "# r = pd.to_datetime('2017-08-17 09:44:50')\n",
    "# s= 'ece2561f07e9'\n",
    "\n",
    "# x[x['series_id']==s]['anglez'][:r].diff().abs().rolling('15min').mean().plot(figsize=(20,8))\n",
    "# for a, b in zip(y[(y['event']=='onset') & (y['series_id']==s)].index,\n",
    "#                 y[(y['event']=='wakeup') & (y['series_id']==s)].index):\n",
    "#     if b < r:\n",
    "#         plt.axvspan(a, b,alpha=0.2, color='r')"
   ]
  },
  {
   "cell_type": "markdown",
   "id": "cb40b6b1",
   "metadata": {},
   "source": [
    "# ----------------------------"
   ]
  },
  {
   "cell_type": "code",
   "execution_count": 67,
   "id": "3c8b4796",
   "metadata": {},
   "outputs": [],
   "source": [
    "def fill_sleep_pred(t, fill='60min', cut='60min'):\n",
    "    t = t.rolling(fill).max()\n",
    "    t = t[::-1].rolling(fill).min()[::-1]\n",
    "\n",
    "    t = t.rolling(cut).min()\n",
    "    t = t[::-1].rolling(cut).max()[::-1]\n",
    "    \n",
    "    t = t.astype(int).diff()[2:]\n",
    "    t = t[t[t==1].index[0]:]\n",
    "    return t\n",
    "\n",
    "def prepare_rows_from_sleep(t2, x, sid):\n",
    "    rows = []\n",
    "    last = t2.index[0] - pd.Timedelta('24h')\n",
    "    i = 0 \n",
    "    fail_counter = 0\n",
    "    for a in t2[t2==1].index:\n",
    "        if a.hour in list(range(18, 25)) + list(range(0, 3)) and a > last + pd.Timedelta('10h'):\n",
    "            try:\n",
    "                b = t2[a+pd.Timedelta('3h'):a+pd.Timedelta('14h')][t2[a+pd.Timedelta('3h'):a+pd.Timedelta('14h')]==-1].index[0]\n",
    "                last = a\n",
    "                d1 = x.loc[a][['step']].to_dict()\n",
    "                if type(d1['step']) == dict:\n",
    "                    d1['step'] = list(d1['step'].values())[0]\n",
    "                i += 1\n",
    "                d1['series_id'] = sid\n",
    "                d1['event'] = 'onset'\n",
    "                d1['score'] = 1\n",
    "                rows.append(d1)\n",
    "                d2 = x.loc[b][['step']].to_dict()\n",
    "                if type(d2['step']) == dict:\n",
    "                    d2['step'] = list(d2['step'].values())[0]\n",
    "                i += 1\n",
    "                d2['series_id'] = sid\n",
    "                d2['event'] = 'wakeup'\n",
    "                d2['score'] = 1\n",
    "                rows.append(d2)\n",
    "            except:\n",
    "#                 b = t2[a:a+pd.Timedelta('12h')].index[-1]\n",
    "#                 last = a\n",
    "#                 d1 = x.loc[a][['step']].to_dict()\n",
    "#                 i += 1\n",
    "#                 d1['series_id'] = sid\n",
    "#                 d1['event'] = 'onset'\n",
    "#                 d1['score'] = 1\n",
    "#                 rows.append(d1)\n",
    "#                 d2 = x.loc[b][['step']].to_dict()\n",
    "#                 if type(d2['step']) == dict:\n",
    "#                     d2['step'] = list(d2['step'].values())[0]\n",
    "#                 i += 1\n",
    "#                 d2['series_id'] = sid\n",
    "#                 d2['event'] = 'wakeup'\n",
    "#                 d2['score'] = 0.1\n",
    "#                 rows.append(d2)\n",
    "                fail_counter += 1\n",
    "                continue\n",
    "    print(f'Failed nights: {fail_counter}')\n",
    "    return rows\n",
    "\n",
    "def prepare_sol(x, f, fill='60min', cut='60min'):\n",
    "    rows = []\n",
    "    for sid in x['series_id'].unique():\n",
    "        x2 = x[x['series_id'] == sid]\n",
    "        t = f(x2)\n",
    "        t = fill_sleep_pred(t, fill, cut)\n",
    "        rows += prepare_rows_from_sleep(t, x2, sid)\n",
    "    pred = pd.DataFrame.from_records(rows)\n",
    "    pred.sort_values([\"series_id\",\"event\"], ascending=[0,1], inplace=True)\n",
    "    pred.reset_index(drop=True, inplace=True)\n",
    "    pred[\"row_id\"] = pred.index\n",
    "    pred = pred[[\"row_id\", \"series_id\",\"step\",\"event\",\"score\"]]\n",
    "    return pred\n",
    "\n",
    "def prep_trans(a):\n",
    "    x_tr = a[['series_id', 'anglez', 'enmo']]\n",
    "\n",
    "    x_tr['anglez_1_15'] = 0\n",
    "    x_tr['enmo_1_15'] = 0\n",
    "    x_tr['anglez_2_5'] = 0\n",
    "    x_tr['enmo_2_5'] = 0\n",
    "\n",
    "    for sid in x_tr['series_id'].unique():\n",
    "        print(sid, end='\\r')\n",
    "        x_tr.loc[x_tr['series_id']==sid,'anglez_1_15'] =\\\n",
    "            x_tr[x_tr['series_id']==sid]['anglez'].diff().abs().rolling('15min').mean()\n",
    "        x_tr.loc[x_tr['series_id']==sid,'enmo_1_15'] =\\\n",
    "            x_tr[x_tr['series_id']==sid]['enmo'].diff().abs().rolling('15min').mean()\n",
    "        x_tr.loc[x_tr['series_id']==sid,'anglez_2_5'] =\\\n",
    "            x_tr[x_tr['series_id']==sid]['anglez'].rolling('5min').std()\n",
    "        x_tr.loc[x_tr['series_id']==sid,'enmo_2_5'] =\\\n",
    "            x_tr[x_tr['series_id']==sid]['enmo'].rolling('5min').std()\n",
    "    return x_tr\n",
    "\n",
    "def f1(a, model, tr=0.5):\n",
    "    x_tr = prep_trans(a)\n",
    "        \n",
    "    x_tr.bfill(inplace=True)\n",
    "    x_tr = x_tr[['anglez_1_15', 'enmo_1_15', 'anglez_2_5', 'enmo_2_5']].values\n",
    "    pred = model.predict_proba(x_tr)[:,1]\n",
    "    return (pd.Series(pred, index=a.index) >tr).astype(int)"
   ]
  },
  {
   "cell_type": "code",
   "execution_count": 24,
   "id": "2d61bfd4",
   "metadata": {
    "scrolled": true
   },
   "outputs": [],
   "source": [
    "# pred = prepare_sol(x, lambda a: a['anglez'].diff().abs().rolling('15min').mean() < 1.5)"
   ]
  },
  {
   "cell_type": "code",
   "execution_count": 25,
   "id": "c7af1a74",
   "metadata": {},
   "outputs": [],
   "source": [
    "# event_detection_ap(y, pred)"
   ]
  },
  {
   "cell_type": "code",
   "execution_count": 26,
   "id": "5adcbc2e",
   "metadata": {},
   "outputs": [],
   "source": [
    "# len(x)"
   ]
  },
  {
   "cell_type": "code",
   "execution_count": 28,
   "id": "ffb02378",
   "metadata": {},
   "outputs": [
    {
     "name": "stdout",
     "output_type": "stream",
     "text": [
      "3452b878e596\r"
     ]
    }
   ],
   "source": [
    "x_tr = prep_trans(x)"
   ]
  },
  {
   "cell_type": "code",
   "execution_count": 29,
   "id": "b577bafd",
   "metadata": {},
   "outputs": [],
   "source": [
    "x_tr['sleep'] = 0\n",
    "for sid in x_tr['series_id'].unique():\n",
    "    for a, b in zip(y[(y['event']=='onset') & (y['series_id']==sid)].index,\n",
    "                y[(y['event']=='wakeup') & (y['series_id']==sid)].index):\n",
    "        x_tr.loc[a: b].loc[(x_tr.loc[a: b]['series_id']==sid),'sleep'] = 1"
   ]
  },
  {
   "cell_type": "code",
   "execution_count": 30,
   "id": "ecce85e0",
   "metadata": {},
   "outputs": [],
   "source": [
    "x_tr.dropna(inplace=True)\n",
    "\n",
    "y_train =x_tr['sleep'].values\n",
    "\n",
    "x_train = x_tr[['anglez_1_15', 'enmo_1_15', 'anglez_2_5', 'enmo_2_5']].values"
   ]
  },
  {
   "cell_type": "code",
   "execution_count": 32,
   "id": "c1508efd",
   "metadata": {},
   "outputs": [],
   "source": [
    "from sklearn.ensemble import RandomForestClassifier"
   ]
  },
  {
   "cell_type": "code",
   "execution_count": 60,
   "id": "3cf0f8f0",
   "metadata": {},
   "outputs": [],
   "source": [
    "# rf = RandomForestClassifier(n_estimators=10, max_depth=8)\n",
    "\n",
    "# rf.fit(x_train, y_train)\n",
    "\n",
    "# rf.score(x_train, y_train)\n",
    "\n",
    "# # x_tr.bfill(inplace=True)"
   ]
  },
  {
   "cell_type": "code",
   "execution_count": 62,
   "id": "1febb542",
   "metadata": {},
   "outputs": [],
   "source": [
    "rf2 = RandomForestClassifier(n_estimators=10, max_depth=10)"
   ]
  },
  {
   "cell_type": "code",
   "execution_count": 63,
   "id": "8d4cc889",
   "metadata": {},
   "outputs": [],
   "source": [
    "split_point = int(len(x_train) * 0.8) "
   ]
  },
  {
   "cell_type": "code",
   "execution_count": 64,
   "id": "1319c401",
   "metadata": {},
   "outputs": [
    {
     "data": {
      "text/html": [
       "<style>#sk-container-id-3 {color: black;background-color: white;}#sk-container-id-3 pre{padding: 0;}#sk-container-id-3 div.sk-toggleable {background-color: white;}#sk-container-id-3 label.sk-toggleable__label {cursor: pointer;display: block;width: 100%;margin-bottom: 0;padding: 0.3em;box-sizing: border-box;text-align: center;}#sk-container-id-3 label.sk-toggleable__label-arrow:before {content: \"▸\";float: left;margin-right: 0.25em;color: #696969;}#sk-container-id-3 label.sk-toggleable__label-arrow:hover:before {color: black;}#sk-container-id-3 div.sk-estimator:hover label.sk-toggleable__label-arrow:before {color: black;}#sk-container-id-3 div.sk-toggleable__content {max-height: 0;max-width: 0;overflow: hidden;text-align: left;background-color: #f0f8ff;}#sk-container-id-3 div.sk-toggleable__content pre {margin: 0.2em;color: black;border-radius: 0.25em;background-color: #f0f8ff;}#sk-container-id-3 input.sk-toggleable__control:checked~div.sk-toggleable__content {max-height: 200px;max-width: 100%;overflow: auto;}#sk-container-id-3 input.sk-toggleable__control:checked~label.sk-toggleable__label-arrow:before {content: \"▾\";}#sk-container-id-3 div.sk-estimator input.sk-toggleable__control:checked~label.sk-toggleable__label {background-color: #d4ebff;}#sk-container-id-3 div.sk-label input.sk-toggleable__control:checked~label.sk-toggleable__label {background-color: #d4ebff;}#sk-container-id-3 input.sk-hidden--visually {border: 0;clip: rect(1px 1px 1px 1px);clip: rect(1px, 1px, 1px, 1px);height: 1px;margin: -1px;overflow: hidden;padding: 0;position: absolute;width: 1px;}#sk-container-id-3 div.sk-estimator {font-family: monospace;background-color: #f0f8ff;border: 1px dotted black;border-radius: 0.25em;box-sizing: border-box;margin-bottom: 0.5em;}#sk-container-id-3 div.sk-estimator:hover {background-color: #d4ebff;}#sk-container-id-3 div.sk-parallel-item::after {content: \"\";width: 100%;border-bottom: 1px solid gray;flex-grow: 1;}#sk-container-id-3 div.sk-label:hover label.sk-toggleable__label {background-color: #d4ebff;}#sk-container-id-3 div.sk-serial::before {content: \"\";position: absolute;border-left: 1px solid gray;box-sizing: border-box;top: 0;bottom: 0;left: 50%;z-index: 0;}#sk-container-id-3 div.sk-serial {display: flex;flex-direction: column;align-items: center;background-color: white;padding-right: 0.2em;padding-left: 0.2em;position: relative;}#sk-container-id-3 div.sk-item {position: relative;z-index: 1;}#sk-container-id-3 div.sk-parallel {display: flex;align-items: stretch;justify-content: center;background-color: white;position: relative;}#sk-container-id-3 div.sk-item::before, #sk-container-id-3 div.sk-parallel-item::before {content: \"\";position: absolute;border-left: 1px solid gray;box-sizing: border-box;top: 0;bottom: 0;left: 50%;z-index: -1;}#sk-container-id-3 div.sk-parallel-item {display: flex;flex-direction: column;z-index: 1;position: relative;background-color: white;}#sk-container-id-3 div.sk-parallel-item:first-child::after {align-self: flex-end;width: 50%;}#sk-container-id-3 div.sk-parallel-item:last-child::after {align-self: flex-start;width: 50%;}#sk-container-id-3 div.sk-parallel-item:only-child::after {width: 0;}#sk-container-id-3 div.sk-dashed-wrapped {border: 1px dashed gray;margin: 0 0.4em 0.5em 0.4em;box-sizing: border-box;padding-bottom: 0.4em;background-color: white;}#sk-container-id-3 div.sk-label label {font-family: monospace;font-weight: bold;display: inline-block;line-height: 1.2em;}#sk-container-id-3 div.sk-label-container {text-align: center;}#sk-container-id-3 div.sk-container {/* jupyter's `normalize.less` sets `[hidden] { display: none; }` but bootstrap.min.css set `[hidden] { display: none !important; }` so we also need the `!important` here to be able to override the default hidden behavior on the sphinx rendered scikit-learn.org. See: https://github.com/scikit-learn/scikit-learn/issues/21755 */display: inline-block !important;position: relative;}#sk-container-id-3 div.sk-text-repr-fallback {display: none;}</style><div id=\"sk-container-id-3\" class=\"sk-top-container\"><div class=\"sk-text-repr-fallback\"><pre>RandomForestClassifier(max_depth=10, n_estimators=10)</pre><b>In a Jupyter environment, please rerun this cell to show the HTML representation or trust the notebook. <br />On GitHub, the HTML representation is unable to render, please try loading this page with nbviewer.org.</b></div><div class=\"sk-container\" hidden><div class=\"sk-item\"><div class=\"sk-estimator sk-toggleable\"><input class=\"sk-toggleable__control sk-hidden--visually\" id=\"sk-estimator-id-3\" type=\"checkbox\" checked><label for=\"sk-estimator-id-3\" class=\"sk-toggleable__label sk-toggleable__label-arrow\">RandomForestClassifier</label><div class=\"sk-toggleable__content\"><pre>RandomForestClassifier(max_depth=10, n_estimators=10)</pre></div></div></div></div></div>"
      ],
      "text/plain": [
       "RandomForestClassifier(max_depth=10, n_estimators=10)"
      ]
     },
     "execution_count": 64,
     "metadata": {},
     "output_type": "execute_result"
    }
   ],
   "source": [
    "rf2.fit(x_train[:split_point], y_train[:split_point])"
   ]
  },
  {
   "cell_type": "code",
   "execution_count": 65,
   "id": "5fee7cdb",
   "metadata": {},
   "outputs": [
    {
     "data": {
      "text/plain": [
       "0.8900973443482275"
      ]
     },
     "execution_count": 65,
     "metadata": {},
     "output_type": "execute_result"
    }
   ],
   "source": [
    "rf2.score(x_train[:split_point], y_train[:split_point])"
   ]
  },
  {
   "cell_type": "code",
   "execution_count": 66,
   "id": "9b399528",
   "metadata": {},
   "outputs": [
    {
     "data": {
      "text/plain": [
       "0.9153926845238345"
      ]
     },
     "execution_count": 66,
     "metadata": {},
     "output_type": "execute_result"
    }
   ],
   "source": [
    "rf2.score(x_train[split_point:], y_train[split_point:])"
   ]
  },
  {
   "cell_type": "code",
   "execution_count": 69,
   "id": "effa568d",
   "metadata": {},
   "outputs": [],
   "source": [
    "from functools import partial"
   ]
  },
  {
   "cell_type": "code",
   "execution_count": 70,
   "id": "99fa4e0b",
   "metadata": {
    "scrolled": true
   },
   "outputs": [
    {
     "name": "stdout",
     "output_type": "stream",
     "text": [
      "Failed nights: 0\n",
      "Failed nights: 1\n",
      "Failed nights: 0\n",
      "Failed nights: 0\n",
      "Failed nights: 1\n",
      "Failed nights: 0\n",
      "Failed nights: 1\n",
      "Failed nights: 0\n",
      "Failed nights: 1\n",
      "Failed nights: 1\n",
      "Failed nights: 0\n",
      "Failed nights: 0\n",
      "Failed nights: 0\n",
      "Failed nights: 3\n",
      "Failed nights: 3\n",
      "Failed nights: 1\n",
      "Failed nights: 0\n",
      "Failed nights: 2\n",
      "Failed nights: 0\n",
      "Failed nights: 0\n",
      "Failed nights: 0\n",
      "Failed nights: 4\n",
      "Failed nights: 0\n",
      "Failed nights: 2\n",
      "Failed nights: 0\n",
      "Failed nights: 0\n",
      "Failed nights: 1\n",
      "Failed nights: 1\n",
      "Failed nights: 0\n",
      "Failed nights: 0\n",
      "Failed nights: 4\n",
      "Failed nights: 0\n",
      "Failed nights: 0\n",
      "Failed nights: 2\n",
      "Failed nights: 0\n",
      "Failed nights: 0\n",
      "Failed nights: 27\n",
      "Failed nights: 3\n",
      "Failed nights: 1\n",
      "Failed nights: 0\n",
      "Failed nights: 0\n",
      "Failed nights: 0\n",
      "Failed nights: 3\n",
      "Failed nights: 0\n",
      "Failed nights: 0\n",
      "Failed nights: 2\n",
      "Failed nights: 5\n",
      "Failed nights: 34\n",
      "Failed nights: 0\n",
      "Failed nights: 2\n",
      "Failed nights: 7\n",
      "Failed nights: 0\n",
      "Failed nights: 0\n",
      "Failed nights: 0\n",
      "Failed nights: 0\n",
      "Failed nights: 0\n",
      "Failed nights: 5\n",
      "Failed nights: 34\n",
      "Failed nights: 5\n",
      "Failed nights: 0\n",
      "Failed nights: 1\n",
      "Failed nights: 10\n",
      "Failed nights: 2\n",
      "Failed nights: 4\n",
      "Failed nights: 0\n",
      "Failed nights: 16\n",
      "Failed nights: 3\n",
      "Failed nights: 0\n",
      "Failed nights: 1\n",
      "Failed nights: 2\n",
      "Failed nights: 1\n",
      "Failed nights: 0\n",
      "Failed nights: 1\n",
      "Failed nights: 1\n",
      "Failed nights: 1\n",
      "Failed nights: 0\n",
      "Failed nights: 0\n",
      "Failed nights: 0\n",
      "Failed nights: 0\n",
      "Failed nights: 0\n",
      "Failed nights: 3\n",
      "Failed nights: 2\n",
      "Failed nights: 2\n",
      "Failed nights: 5\n",
      "Failed nights: 0\n",
      "Failed nights: 8\n",
      "Failed nights: 0\n",
      "Failed nights: 1\n",
      "Failed nights: 0\n",
      "Failed nights: 2\n",
      "Failed nights: 0\n",
      "Failed nights: 0\n",
      "Failed nights: 0\n",
      "Failed nights: 0\n",
      "Failed nights: 1\n",
      "Failed nights: 0\n",
      "Failed nights: 0\n",
      "Failed nights: 0\n",
      "Failed nights: 1\n",
      "Failed nights: 1\n"
     ]
    }
   ],
   "source": [
    "pred = prepare_sol(x, partial(f1, model=rf2))"
   ]
  },
  {
   "cell_type": "code",
   "execution_count": 71,
   "id": "66484919",
   "metadata": {},
   "outputs": [
    {
     "data": {
      "text/plain": [
       "0.2808722702384363"
      ]
     },
     "execution_count": 71,
     "metadata": {},
     "output_type": "execute_result"
    }
   ],
   "source": [
    "event_detection_ap(y, pred)"
   ]
  },
  {
   "cell_type": "code",
   "execution_count": null,
   "id": "d69ea83b",
   "metadata": {},
   "outputs": [],
   "source": []
  }
 ],
 "metadata": {
  "kernelspec": {
   "display_name": "python_3_10_default_env",
   "language": "python",
   "name": "python_3_10_default_env"
  },
  "language_info": {
   "codemirror_mode": {
    "name": "ipython",
    "version": 3
   },
   "file_extension": ".py",
   "mimetype": "text/x-python",
   "name": "python",
   "nbconvert_exporter": "python",
   "pygments_lexer": "ipython3",
   "version": "3.10.12"
  }
 },
 "nbformat": 4,
 "nbformat_minor": 5
}
