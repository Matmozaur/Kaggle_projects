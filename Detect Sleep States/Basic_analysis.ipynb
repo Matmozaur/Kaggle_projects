{
 "cells": [
  {
   "cell_type": "code",
   "execution_count": 1,
   "id": "c67c1ed7",
   "metadata": {},
   "outputs": [],
   "source": [
    "import polars as pl\n",
    "import matplotlib.pyplot as plt\n",
    "from event_detection_ap_score import event_detection_ap\n",
    "\n",
    "import pandas as pd"
   ]
  },
  {
   "cell_type": "code",
   "execution_count": 2,
   "id": "1e1f2967",
   "metadata": {},
   "outputs": [],
   "source": [
    "# BASE_PATH = '/home/matmozaur/Downloads/child-mind-institute-detect-sleep-states/'\n",
    "BASE_PATH = '../../cmidss/'"
   ]
  },
  {
   "cell_type": "code",
   "execution_count": 3,
   "id": "d5e34f00",
   "metadata": {},
   "outputs": [],
   "source": [
    "x_train = pl.read_parquet(BASE_PATH+'train_series.parquet')\n",
    "y_train = pl.read_csv(BASE_PATH+'train_events.csv')"
   ]
  },
  {
   "cell_type": "code",
   "execution_count": 4,
   "id": "c1d84ac4",
   "metadata": {},
   "outputs": [],
   "source": [
    "s_idxs = list(y_train['series_id'].unique())"
   ]
  },
  {
   "cell_type": "markdown",
   "id": "a1847e6f",
   "metadata": {},
   "source": [
    "# ----------------"
   ]
  },
  {
   "cell_type": "code",
   "execution_count": 5,
   "id": "ee59adb6",
   "metadata": {},
   "outputs": [],
   "source": [
    "y = y_train.filter(pl.col(\"series_id\").is_in(s_idxs[:20])).to_pandas()\n",
    "\n",
    "x = x_train.filter(pl.col(\"series_id\").is_in(s_idxs[:20])).to_pandas()"
   ]
  },
  {
   "cell_type": "code",
   "execution_count": 6,
   "id": "f8fc1ffc",
   "metadata": {},
   "outputs": [],
   "source": [
    "y = y.dropna()"
   ]
  },
  {
   "cell_type": "code",
   "execution_count": 7,
   "id": "8194fc01",
   "metadata": {},
   "outputs": [],
   "source": [
    "x['timestamp'] = pd.to_datetime(x['timestamp'].apply(lambda x: x[:19]))\n",
    "y['timestamp'] = pd.to_datetime(y['timestamp'].apply(lambda x: x[:19]))\n",
    "x.set_index('timestamp', inplace=True)\n",
    "y.set_index('timestamp', inplace=True)"
   ]
  },
  {
   "cell_type": "code",
   "execution_count": 8,
   "id": "f318ca9e",
   "metadata": {},
   "outputs": [],
   "source": [
    "x.sort_index(inplace=True)\n",
    "y.sort_index(inplace=True)"
   ]
  },
  {
   "cell_type": "code",
   "execution_count": 9,
   "id": "4688200d",
   "metadata": {},
   "outputs": [
    {
     "data": {
      "image/png": "[encoded data removed]",
      "text/plain": [
       "<Figure size 2000x800 with 1 Axes>"
      ]
     },
     "metadata": {},
     "output_type": "display_data"
    }
   ],
   "source": [
    "r = pd.to_datetime('2017-08-17 09:44:50')\n",
    "s= 'ece2561f07e9'\n",
    "\n",
    "x[x['series_id']==s]['anglez'][:r].diff().abs().rolling('15min').mean().plot(figsize=(20,8))\n",
    "for a, b in zip(y[(y['event']=='onset') & (y['series_id']==s)].index,\n",
    "                y[(y['event']=='wakeup') & (y['series_id']==s)].index):\n",
    "    if b < r:\n",
    "        plt.axvspan(a, b,alpha=0.2, color='r')"
   ]
  },
  {
   "cell_type": "markdown",
   "id": "a60c81fc",
   "metadata": {},
   "source": [
    "# ----------------------------"
   ]
  },
  {
   "cell_type": "code",
   "execution_count": 18,
   "id": "0a79385b",
   "metadata": {},
   "outputs": [],
   "source": [
    "def fill_sleep_pred(t, fill='60min', cut='60min'):\n",
    "    t = t.rolling(fill).max()\n",
    "    t = t[::-1].rolling(fill).min()[::-1]\n",
    "\n",
    "    t = t.rolling(cut).min()\n",
    "    t = t[::-1].rolling(cut).max()[::-1]\n",
    "    \n",
    "    t = t.astype(int).diff()[2:]\n",
    "    t = t[t[t==1].index[0]:]\n",
    "    return t\n",
    "\n",
    "def prepare_rows_from_sleep(t2, x, sid):\n",
    "    rows = []\n",
    "    last = t2.index[0] - pd.Timedelta('24h')\n",
    "    i = 0 \n",
    "    fail_counter = 0\n",
    "    for a in t2[t2==1].index:\n",
    "        if a.hour in list(range(19, 25)) + list(range(0, 3)) and a > last + pd.Timedelta('10h'):\n",
    "            try:\n",
    "                b = t2[a+pd.Timedelta('3h'):a+pd.Timedelta('12h')][t2[a+pd.Timedelta('3h'):a+pd.Timedelta('12h')]==-1].index[0]\n",
    "                last = a\n",
    "                d1 = x.loc[a][['step']].to_dict()\n",
    "                i += 1\n",
    "                d1['series_id'] = sid\n",
    "                d1['event'] = 'onset'\n",
    "                d1['score'] = 0.5\n",
    "                rows.append(d1)\n",
    "                d2 = x.loc[b][['step']].to_dict()\n",
    "                if type(d2['step']) == dict:\n",
    "                    d2['step'] = list(d2['step'].values())[0]\n",
    "                i += 1\n",
    "                d2['series_id'] = sid\n",
    "                d2['event'] = 'wakeup'\n",
    "                d2['score'] = 0.5\n",
    "                rows.append(d2)\n",
    "            except:\n",
    "                fail_counter += 1\n",
    "                continue\n",
    "    print(f'Failed nights: {fail_counter}')\n",
    "    return rows\n",
    "\n",
    "def prepare_sol(x, f, fill='60min', cut='60min'):\n",
    "    rows = []\n",
    "    for sid in x['series_id'].unique():\n",
    "        x2 = x[x['series_id'] == sid]\n",
    "        t = f(x2)\n",
    "        t = fill_sleep_pred(t, fill, cut)\n",
    "        rows += prepare_rows_from_sleep(t, x2, sid)\n",
    "    pred = pd.DataFrame.from_records(rows)\n",
    "    pred.sort_values([\"series_id\",\"event\"], ascending=[0,1], inplace=True)\n",
    "    pred.reset_index(drop=True, inplace=True)\n",
    "    pred[\"row_id\"] = pred.index\n",
    "    pred = pred[[\"row_id\", \"series_id\",\"step\",\"event\",\"score\"]]\n",
    "    return pred"
   ]
  },
  {
   "cell_type": "code",
   "execution_count": 22,
   "id": "4aa00a5a",
   "metadata": {
    "scrolled": true
   },
   "outputs": [
    {
     "name": "stdout",
     "output_type": "stream",
     "text": [
      "Failed nights: 0\n",
      "Failed nights: 0\n",
      "Failed nights: 1\n",
      "Failed nights: 0\n",
      "Failed nights: 0\n",
      "Failed nights: 5\n",
      "Failed nights: 1\n",
      "Failed nights: 2\n",
      "Failed nights: 0\n",
      "Failed nights: 2\n",
      "Failed nights: 2\n",
      "Failed nights: 7\n",
      "Failed nights: 0\n",
      "Failed nights: 2\n",
      "Failed nights: 0\n",
      "Failed nights: 0\n",
      "Failed nights: 1\n",
      "Failed nights: 0\n",
      "Failed nights: 0\n",
      "Failed nights: 2\n"
     ]
    }
   ],
   "source": [
    "pred = prepare_sol(x, lambda a: a['anglez'].diff().abs().rolling('15min').mean() < 1.5)"
   ]
  },
  {
   "cell_type": "code",
   "execution_count": 23,
   "id": "aa94905b",
   "metadata": {},
   "outputs": [],
   "source": [
    "# t.astype(int).plot(figsize=(20,8))\n",
    "# for a, b in zip(y[y['event']=='onset'].index, y[y['event']=='wakeup'].index):\n",
    "#     plt.axvspan(a, b,alpha=0.2, color='r')"
   ]
  },
  {
   "cell_type": "code",
   "execution_count": 24,
   "id": "0835e454",
   "metadata": {},
   "outputs": [
    {
     "data": {
      "text/plain": [
       "0.23010827210736964"
      ]
     },
     "execution_count": 24,
     "metadata": {},
     "output_type": "execute_result"
    }
   ],
   "source": [
    "event_detection_ap(y, pred)"
   ]
  },
  {
   "cell_type": "code",
   "execution_count": null,
   "id": "1febb542",
   "metadata": {},
   "outputs": [],
   "source": []
  },
  {
   "cell_type": "code",
   "execution_count": null,
   "id": "90560f19",
   "metadata": {},
   "outputs": [],
   "source": []
  },
  {
   "cell_type": "code",
   "execution_count": null,
   "id": "88f4beb0",
   "metadata": {},
   "outputs": [],
   "source": []
  },
  {
   "cell_type": "code",
   "execution_count": null,
   "id": "6c561c54",
   "metadata": {},
   "outputs": [],
   "source": [
    "# import pandas as pd\n",
    "# import matplotlib.pyplot as plt\n",
    "# import os\n",
    "\n",
    "# # only reads test data\n",
    "# te = pd.read_parquet(BASE_PATH + 'train_series.parquet')\n",
    "\n",
    "# # set baseline hours for sleeping and waking up\n",
    "# onset = te[te[\"timestamp\"].str.slice(11,19)=='21:37:00'].set_index(\"series_id\")[\"step\"]\n",
    "# wakeup = te[te[\"timestamp\"].str.slice(11,19)=='07:03:00'].set_index(\"series_id\")[\"step\"]\n",
    "\n",
    "# # prep sub\n",
    "# sub = pd.concat([\n",
    "#     onset.reset_index().assign(event=\"onset\"),\n",
    "#     wakeup.reset_index().assign(event=\"wakeup\"),\n",
    "# ])\n",
    "# sub[\"score\"] = 0.5\n",
    "# sub.sort_values([\"series_id\",\"event\"], ascending=[0,1], inplace=True)\n",
    "# sub.reset_index(drop=True, inplace=True)\n",
    "# sub[\"row_id\"] = sub.index\n",
    "# sub = sub[[\"row_id\", \"series_id\",\"step\",\"event\",\"score\"]]\n",
    "# sub.to_csv(\"submission.csv\", index=False)\n",
    "# sub"
   ]
  },
  {
   "cell_type": "code",
   "execution_count": null,
   "id": "9ba55ac2",
   "metadata": {},
   "outputs": [],
   "source": []
  },
  {
   "cell_type": "code",
   "execution_count": null,
   "id": "9591f846",
   "metadata": {},
   "outputs": [],
   "source": []
  },
  {
   "cell_type": "code",
   "execution_count": null,
   "id": "d9fa7203",
   "metadata": {},
   "outputs": [],
   "source": []
  }
 ],
 "metadata": {
  "kernelspec": {
   "display_name": "python_3_10_default_env",
   "language": "python",
   "name": "python_3_10_default_env"
  },
  "language_info": {
   "codemirror_mode": {
    "name": "ipython",
    "version": 3
   },
   "file_extension": ".py",
   "mimetype": "text/x-python",
   "name": "python",
   "nbconvert_exporter": "python",
   "pygments_lexer": "ipython3",
   "version": "3.10.12"
  }
 },
 "nbformat": 4,
 "nbformat_minor": 5
}
